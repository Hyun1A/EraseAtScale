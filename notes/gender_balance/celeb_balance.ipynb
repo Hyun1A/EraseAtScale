{
 "cells": [
  {
   "cell_type": "code",
   "execution_count": 5,
   "metadata": {},
   "outputs": [],
   "source": [
    "import torch\n",
    "import os\n",
    "import numpy as np\n",
    "import yaml, csv\n"
   ]
  },
  {
   "cell_type": "code",
   "execution_count": 6,
   "metadata": {},
   "outputs": [
    {
     "name": "stdout",
     "output_type": "stream",
     "text": [
      "CSV 저장 완료: positives.csv\n"
     ]
    }
   ],
   "source": [
    "prompt_path = \"/data3/hyun/EraseAtScale/repair_nonlinear/EAS_noise_arch_search/configs/train_celeb/prompt_1000.yaml\"\n",
    "\n",
    "\n",
    "# 1. YAML 파일 읽기\n",
    "with open(prompt_path, \"r\", encoding=\"utf-8\") as f:\n",
    "    data = yaml.safe_load(f)\n",
    "\n",
    "# 2. positive 값만 리스트로 추출\n",
    "positives = [item[\"positive\"] for item in data if \"positive\" in item]\n",
    "\n",
    "# 3. CSV 파일로 저장\n",
    "with open(\"positives.csv\", \"w\", newline=\"\", encoding=\"utf-8\") as f:\n",
    "    writer = csv.writer(f)\n",
    "    writer.writerow([\"positive\"])  # header 추가\n",
    "    for p in positives:\n",
    "        writer.writerow([p])\n",
    "\n"
   ]
  },
  {
   "cell_type": "code",
   "execution_count": null,
   "metadata": {},
   "outputs": [],
   "source": []
  }
 ],
 "metadata": {
  "kernelspec": {
   "display_name": "GLoCE",
   "language": "python",
   "name": "python3"
  },
  "language_info": {
   "codemirror_mode": {
    "name": "ipython",
    "version": 3
   },
   "file_extension": ".py",
   "mimetype": "text/x-python",
   "name": "python",
   "nbconvert_exporter": "python",
   "pygments_lexer": "ipython3",
   "version": "3.10.18"
  }
 },
 "nbformat": 4,
 "nbformat_minor": 2
}
